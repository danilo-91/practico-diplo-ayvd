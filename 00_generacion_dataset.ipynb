{
  "nbformat": 4,
  "nbformat_minor": 0,
  "metadata": {
    "colab": {
      "name": "00_generacion_dataset.ipynb",
      "provenance": [],
      "collapsed_sections": [],
      "include_colab_link": true
    },
    "kernelspec": {
      "display_name": "Python 3",
      "language": "python",
      "name": "python3"
    },
    "language_info": {
      "codemirror_mode": {
        "name": "ipython",
        "version": 3
      },
      "file_extension": ".py",
      "mimetype": "text/x-python",
      "name": "python",
      "nbconvert_exporter": "python",
      "pygments_lexer": "ipython3",
      "version": "3.6.10"
    }
  },
  "cells": [
    {
      "cell_type": "markdown",
      "metadata": {
        "id": "view-in-github",
        "colab_type": "text"
      },
      "source": [
        "<a href=\"https://colab.research.google.com/github/danilo-91/practico-diplo-ayvd/blob/master/00_generacion_dataset.ipynb\" target=\"_parent\"><img src=\"https://colab.research.google.com/assets/colab-badge.svg\" alt=\"Open In Colab\"/></a>"
      ]
    },
    {
      "cell_type": "code",
      "metadata": {
        "colab_type": "code",
        "id": "yBWTBtS8Mp1D",
        "colab": {
          "base_uri": "https://localhost:8080/",
          "height": 72
        },
        "outputId": "93131a6e-23fe-465b-e63d-9d2feda6fc91"
      },
      "source": [
        "import io\n",
        "import pandas\n",
        "import scipy\n",
        "import seaborn\n",
        "\n",
        "print(seaborn.__version__)"
      ],
      "execution_count": 4,
      "outputs": [
        {
          "output_type": "stream",
          "text": [
            "0.10.1\n"
          ],
          "name": "stdout"
        },
        {
          "output_type": "stream",
          "text": [
            "/usr/local/lib/python3.6/dist-packages/statsmodels/tools/_testing.py:19: FutureWarning: pandas.util.testing is deprecated. Use the functions in the public API at pandas.testing instead.\n",
            "  import pandas.util.testing as tm\n"
          ],
          "name": "stderr"
        }
      ]
    },
    {
      "cell_type": "markdown",
      "metadata": {
        "id": "NYTyQBhODjkP",
        "colab_type": "text"
      },
      "source": [
        "Quizá sería bueno tener un bloque de código con las importaciones que se hacen."
      ]
    },
    {
      "cell_type": "code",
      "metadata": {
        "id": "Eyo9u3XxDrU6",
        "colab_type": "code",
        "colab": {
          "base_uri": "https://localhost:8080/",
          "height": 35
        },
        "outputId": "66d978ba-3665-470a-ed17-57aba862e2eb"
      },
      "source": [
        "reqs = ['io', 'pandas', \n",
        "        'scipy', 'seaborn']\n",
        "reqs"
      ],
      "execution_count": 1,
      "outputs": [
        {
          "output_type": "execute_result",
          "data": {
            "text/plain": [
              "['io', 'pandas', 'scipy', 'seaborn']"
            ]
          },
          "metadata": {
            "tags": []
          },
          "execution_count": 1
        }
      ]
    },
    {
      "cell_type": "markdown",
      "metadata": {
        "id": "_SOCIVrkD5_B",
        "colab_type": "text"
      },
      "source": [
        "En los requisitos tenemos a Pandas, una de las librerías más importantes para hacer ciencia de datos en Python. Tenemos a Seaborn, que es una librería para hacer gráficos. Figura en la lista de Awesome, así que debería ser muy buena. Scipy es otra de las librerías core del stack de SciPy. Sirve para hacer muchas rutinas matemátias y estadísticas importantes. Por último, io es una de las librerías básicas de Python, que le permite manejar varios tipos de inputs y outputs, para leer y escribir de forma persistente."
      ]
    },
    {
      "cell_type": "markdown",
      "metadata": {
        "colab_type": "text",
        "id": "kHB4Nd-QQZW-"
      },
      "source": [
        "Para comenzar, en el archivo headers.csv tenemos el dataset con sólo una respuesta, que usamos como base para rellenar nuestro formulario"
      ]
    },
    {
      "cell_type": "code",
      "metadata": {
        "colab_type": "code",
        "id": "nDcbnarNOmYY",
        "colab": {}
      },
      "source": [
        "#df = pandas.read_csv('./datos/headers.csv')\n",
        "df = pandas.read_csv('http://samplecsvs.s3.amazonaws.com/SalesJan2009.csv')"
      ],
      "execution_count": 7,
      "outputs": []
    },
    {
      "cell_type": "code",
      "metadata": {
        "colab_type": "code",
        "id": "9YWxH8kTOx6N",
        "colab": {
          "base_uri": "https://localhost:8080/",
          "height": 424
        },
        "outputId": "3ddf65cb-6921-41f2-eb4d-6316a6c78abf"
      },
      "source": [
        "df"
      ],
      "execution_count": 8,
      "outputs": [
        {
          "output_type": "execute_result",
          "data": {
            "text/html": [
              "<div>\n",
              "<style scoped>\n",
              "    .dataframe tbody tr th:only-of-type {\n",
              "        vertical-align: middle;\n",
              "    }\n",
              "\n",
              "    .dataframe tbody tr th {\n",
              "        vertical-align: top;\n",
              "    }\n",
              "\n",
              "    .dataframe thead th {\n",
              "        text-align: right;\n",
              "    }\n",
              "</style>\n",
              "<table border=\"1\" class=\"dataframe\">\n",
              "  <thead>\n",
              "    <tr style=\"text-align: right;\">\n",
              "      <th></th>\n",
              "      <th>Transaction_date</th>\n",
              "      <th>Product</th>\n",
              "      <th>Price</th>\n",
              "      <th>Payment_Type</th>\n",
              "      <th>Name</th>\n",
              "      <th>City</th>\n",
              "      <th>State</th>\n",
              "      <th>Country</th>\n",
              "      <th>Account_Created</th>\n",
              "      <th>Last_Login</th>\n",
              "      <th>Latitude</th>\n",
              "      <th>Longitude</th>\n",
              "    </tr>\n",
              "  </thead>\n",
              "  <tbody>\n",
              "    <tr>\n",
              "      <th>0</th>\n",
              "      <td>1/2/09 6:17</td>\n",
              "      <td>Product1</td>\n",
              "      <td>1200</td>\n",
              "      <td>Mastercard</td>\n",
              "      <td>carolina</td>\n",
              "      <td>Basildon</td>\n",
              "      <td>England</td>\n",
              "      <td>United Kingdom</td>\n",
              "      <td>1/2/09 6:00</td>\n",
              "      <td>1/2/09 6:08</td>\n",
              "      <td>51.500000</td>\n",
              "      <td>-1.116667</td>\n",
              "    </tr>\n",
              "    <tr>\n",
              "      <th>1</th>\n",
              "      <td>1/2/09 4:53</td>\n",
              "      <td>Product1</td>\n",
              "      <td>1200</td>\n",
              "      <td>Visa</td>\n",
              "      <td>Betina</td>\n",
              "      <td>Parkville</td>\n",
              "      <td>MO</td>\n",
              "      <td>United States</td>\n",
              "      <td>1/2/09 4:42</td>\n",
              "      <td>1/2/09 7:49</td>\n",
              "      <td>39.195000</td>\n",
              "      <td>-94.681940</td>\n",
              "    </tr>\n",
              "    <tr>\n",
              "      <th>2</th>\n",
              "      <td>1/2/09 13:08</td>\n",
              "      <td>Product1</td>\n",
              "      <td>1200</td>\n",
              "      <td>Mastercard</td>\n",
              "      <td>Federica e Andrea</td>\n",
              "      <td>Astoria</td>\n",
              "      <td>OR</td>\n",
              "      <td>United States</td>\n",
              "      <td>1/1/09 16:21</td>\n",
              "      <td>1/3/09 12:32</td>\n",
              "      <td>46.188060</td>\n",
              "      <td>-123.830000</td>\n",
              "    </tr>\n",
              "    <tr>\n",
              "      <th>3</th>\n",
              "      <td>1/3/09 14:44</td>\n",
              "      <td>Product1</td>\n",
              "      <td>1200</td>\n",
              "      <td>Visa</td>\n",
              "      <td>Gouya</td>\n",
              "      <td>Echuca</td>\n",
              "      <td>Victoria</td>\n",
              "      <td>Australia</td>\n",
              "      <td>9/25/05 21:13</td>\n",
              "      <td>1/3/09 14:22</td>\n",
              "      <td>-36.133333</td>\n",
              "      <td>144.750000</td>\n",
              "    </tr>\n",
              "    <tr>\n",
              "      <th>4</th>\n",
              "      <td>1/4/09 12:56</td>\n",
              "      <td>Product2</td>\n",
              "      <td>3600</td>\n",
              "      <td>Visa</td>\n",
              "      <td>Gerd W</td>\n",
              "      <td>Cahaba Heights</td>\n",
              "      <td>AL</td>\n",
              "      <td>United States</td>\n",
              "      <td>11/15/08 15:47</td>\n",
              "      <td>1/4/09 12:45</td>\n",
              "      <td>33.520560</td>\n",
              "      <td>-86.802500</td>\n",
              "    </tr>\n",
              "    <tr>\n",
              "      <th>...</th>\n",
              "      <td>...</td>\n",
              "      <td>...</td>\n",
              "      <td>...</td>\n",
              "      <td>...</td>\n",
              "      <td>...</td>\n",
              "      <td>...</td>\n",
              "      <td>...</td>\n",
              "      <td>...</td>\n",
              "      <td>...</td>\n",
              "      <td>...</td>\n",
              "      <td>...</td>\n",
              "      <td>...</td>\n",
              "    </tr>\n",
              "    <tr>\n",
              "      <th>993</th>\n",
              "      <td>1/22/09 14:25</td>\n",
              "      <td>Product1</td>\n",
              "      <td>1200</td>\n",
              "      <td>Visa</td>\n",
              "      <td>Hans-Joerg</td>\n",
              "      <td>Belfast</td>\n",
              "      <td>Northern Ireland</td>\n",
              "      <td>United Kingdom</td>\n",
              "      <td>11/10/08 12:15</td>\n",
              "      <td>3/1/09 3:37</td>\n",
              "      <td>54.583333</td>\n",
              "      <td>-5.933333</td>\n",
              "    </tr>\n",
              "    <tr>\n",
              "      <th>994</th>\n",
              "      <td>1/28/09 5:36</td>\n",
              "      <td>Product2</td>\n",
              "      <td>3600</td>\n",
              "      <td>Visa</td>\n",
              "      <td>Christiane</td>\n",
              "      <td>Black River</td>\n",
              "      <td>Black River</td>\n",
              "      <td>Mauritius</td>\n",
              "      <td>1/9/09 8:10</td>\n",
              "      <td>3/1/09 4:40</td>\n",
              "      <td>-20.360278</td>\n",
              "      <td>57.366111</td>\n",
              "    </tr>\n",
              "    <tr>\n",
              "      <th>995</th>\n",
              "      <td>1/1/09 4:24</td>\n",
              "      <td>Product3</td>\n",
              "      <td>7500</td>\n",
              "      <td>Amex</td>\n",
              "      <td>Pamela</td>\n",
              "      <td>Skaneateles</td>\n",
              "      <td>NY</td>\n",
              "      <td>United States</td>\n",
              "      <td>12/28/08 17:28</td>\n",
              "      <td>3/1/09 7:21</td>\n",
              "      <td>42.946940</td>\n",
              "      <td>-76.429440</td>\n",
              "    </tr>\n",
              "    <tr>\n",
              "      <th>996</th>\n",
              "      <td>1/8/09 11:55</td>\n",
              "      <td>Product1</td>\n",
              "      <td>1200</td>\n",
              "      <td>Diners</td>\n",
              "      <td>julie</td>\n",
              "      <td>Haverhill</td>\n",
              "      <td>England</td>\n",
              "      <td>United Kingdom</td>\n",
              "      <td>11/29/06 13:31</td>\n",
              "      <td>3/1/09 7:28</td>\n",
              "      <td>52.083333</td>\n",
              "      <td>0.433333</td>\n",
              "    </tr>\n",
              "    <tr>\n",
              "      <th>997</th>\n",
              "      <td>1/12/09 21:30</td>\n",
              "      <td>Product1</td>\n",
              "      <td>1200</td>\n",
              "      <td>Visa</td>\n",
              "      <td>Julia</td>\n",
              "      <td>Madison</td>\n",
              "      <td>WI</td>\n",
              "      <td>United States</td>\n",
              "      <td>11/17/08 22:24</td>\n",
              "      <td>3/1/09 10:14</td>\n",
              "      <td>43.073060</td>\n",
              "      <td>-89.401110</td>\n",
              "    </tr>\n",
              "  </tbody>\n",
              "</table>\n",
              "<p>998 rows × 12 columns</p>\n",
              "</div>"
            ],
            "text/plain": [
              "    Transaction_date   Product Price  ...    Last_Login   Latitude   Longitude\n",
              "0        1/2/09 6:17  Product1  1200  ...   1/2/09 6:08  51.500000   -1.116667\n",
              "1        1/2/09 4:53  Product1  1200  ...   1/2/09 7:49  39.195000  -94.681940\n",
              "2       1/2/09 13:08  Product1  1200  ...  1/3/09 12:32  46.188060 -123.830000\n",
              "3       1/3/09 14:44  Product1  1200  ...  1/3/09 14:22 -36.133333  144.750000\n",
              "4       1/4/09 12:56  Product2  3600  ...  1/4/09 12:45  33.520560  -86.802500\n",
              "..               ...       ...   ...  ...           ...        ...         ...\n",
              "993    1/22/09 14:25  Product1  1200  ...   3/1/09 3:37  54.583333   -5.933333\n",
              "994     1/28/09 5:36  Product2  3600  ...   3/1/09 4:40 -20.360278   57.366111\n",
              "995      1/1/09 4:24  Product3  7500  ...   3/1/09 7:21  42.946940  -76.429440\n",
              "996     1/8/09 11:55  Product1  1200  ...   3/1/09 7:28  52.083333    0.433333\n",
              "997    1/12/09 21:30  Product1  1200  ...  3/1/09 10:14  43.073060  -89.401110\n",
              "\n",
              "[998 rows x 12 columns]"
            ]
          },
          "metadata": {
            "tags": []
          },
          "execution_count": 8
        }
      ]
    },
    {
      "cell_type": "markdown",
      "metadata": {
        "colab_type": "text",
        "id": "5o4INtyGSTxJ"
      },
      "source": [
        "## Agregando valores\n",
        "\n",
        "\n",
        "Para trabajar más cómodamente, renombraremos las columnas de DataFrame. Tengan cuidado de que el orden de los nombres nuevos se corresponda con el contenido de cada columna.\n",
        "\n",
        "El atributo para modificar los títulos de las columnas es '.columns'. Le paso una lista y va ubicado desde la primera a la última. En este caso yo cambié el CSV, así que voy a cambiar los nombres también."
      ]
    },
    {
      "cell_type": "code",
      "metadata": {
        "colab_type": "code",
        "id": "D4HILmylmAO6",
        "colab": {}
      },
      "source": [
        "df.columns = ['timestamp', 'product', 'price', 'payment_type', 'name', 'city', 'state', 'country',\n",
        "              'account_created', 'last_login', 'latitude', 'longitude']"
      ],
      "execution_count": 10,
      "outputs": []
    },
    {
      "cell_type": "code",
      "metadata": {
        "colab_type": "code",
        "id": "-Wfg2p78PN_-",
        "colab": {
          "base_uri": "https://localhost:8080/",
          "height": 424
        },
        "outputId": "2a4e6b86-6380-4e6c-d850-d018b2d52c4e"
      },
      "source": [
        "df"
      ],
      "execution_count": 11,
      "outputs": [
        {
          "output_type": "execute_result",
          "data": {
            "text/html": [
              "<div>\n",
              "<style scoped>\n",
              "    .dataframe tbody tr th:only-of-type {\n",
              "        vertical-align: middle;\n",
              "    }\n",
              "\n",
              "    .dataframe tbody tr th {\n",
              "        vertical-align: top;\n",
              "    }\n",
              "\n",
              "    .dataframe thead th {\n",
              "        text-align: right;\n",
              "    }\n",
              "</style>\n",
              "<table border=\"1\" class=\"dataframe\">\n",
              "  <thead>\n",
              "    <tr style=\"text-align: right;\">\n",
              "      <th></th>\n",
              "      <th>timestamp</th>\n",
              "      <th>product</th>\n",
              "      <th>price</th>\n",
              "      <th>payment_type</th>\n",
              "      <th>name</th>\n",
              "      <th>city</th>\n",
              "      <th>state</th>\n",
              "      <th>country</th>\n",
              "      <th>account_created</th>\n",
              "      <th>last_login</th>\n",
              "      <th>latitude</th>\n",
              "      <th>longitude</th>\n",
              "    </tr>\n",
              "  </thead>\n",
              "  <tbody>\n",
              "    <tr>\n",
              "      <th>0</th>\n",
              "      <td>1/2/09 6:17</td>\n",
              "      <td>Product1</td>\n",
              "      <td>1200</td>\n",
              "      <td>Mastercard</td>\n",
              "      <td>carolina</td>\n",
              "      <td>Basildon</td>\n",
              "      <td>England</td>\n",
              "      <td>United Kingdom</td>\n",
              "      <td>1/2/09 6:00</td>\n",
              "      <td>1/2/09 6:08</td>\n",
              "      <td>51.500000</td>\n",
              "      <td>-1.116667</td>\n",
              "    </tr>\n",
              "    <tr>\n",
              "      <th>1</th>\n",
              "      <td>1/2/09 4:53</td>\n",
              "      <td>Product1</td>\n",
              "      <td>1200</td>\n",
              "      <td>Visa</td>\n",
              "      <td>Betina</td>\n",
              "      <td>Parkville</td>\n",
              "      <td>MO</td>\n",
              "      <td>United States</td>\n",
              "      <td>1/2/09 4:42</td>\n",
              "      <td>1/2/09 7:49</td>\n",
              "      <td>39.195000</td>\n",
              "      <td>-94.681940</td>\n",
              "    </tr>\n",
              "    <tr>\n",
              "      <th>2</th>\n",
              "      <td>1/2/09 13:08</td>\n",
              "      <td>Product1</td>\n",
              "      <td>1200</td>\n",
              "      <td>Mastercard</td>\n",
              "      <td>Federica e Andrea</td>\n",
              "      <td>Astoria</td>\n",
              "      <td>OR</td>\n",
              "      <td>United States</td>\n",
              "      <td>1/1/09 16:21</td>\n",
              "      <td>1/3/09 12:32</td>\n",
              "      <td>46.188060</td>\n",
              "      <td>-123.830000</td>\n",
              "    </tr>\n",
              "    <tr>\n",
              "      <th>3</th>\n",
              "      <td>1/3/09 14:44</td>\n",
              "      <td>Product1</td>\n",
              "      <td>1200</td>\n",
              "      <td>Visa</td>\n",
              "      <td>Gouya</td>\n",
              "      <td>Echuca</td>\n",
              "      <td>Victoria</td>\n",
              "      <td>Australia</td>\n",
              "      <td>9/25/05 21:13</td>\n",
              "      <td>1/3/09 14:22</td>\n",
              "      <td>-36.133333</td>\n",
              "      <td>144.750000</td>\n",
              "    </tr>\n",
              "    <tr>\n",
              "      <th>4</th>\n",
              "      <td>1/4/09 12:56</td>\n",
              "      <td>Product2</td>\n",
              "      <td>3600</td>\n",
              "      <td>Visa</td>\n",
              "      <td>Gerd W</td>\n",
              "      <td>Cahaba Heights</td>\n",
              "      <td>AL</td>\n",
              "      <td>United States</td>\n",
              "      <td>11/15/08 15:47</td>\n",
              "      <td>1/4/09 12:45</td>\n",
              "      <td>33.520560</td>\n",
              "      <td>-86.802500</td>\n",
              "    </tr>\n",
              "    <tr>\n",
              "      <th>...</th>\n",
              "      <td>...</td>\n",
              "      <td>...</td>\n",
              "      <td>...</td>\n",
              "      <td>...</td>\n",
              "      <td>...</td>\n",
              "      <td>...</td>\n",
              "      <td>...</td>\n",
              "      <td>...</td>\n",
              "      <td>...</td>\n",
              "      <td>...</td>\n",
              "      <td>...</td>\n",
              "      <td>...</td>\n",
              "    </tr>\n",
              "    <tr>\n",
              "      <th>993</th>\n",
              "      <td>1/22/09 14:25</td>\n",
              "      <td>Product1</td>\n",
              "      <td>1200</td>\n",
              "      <td>Visa</td>\n",
              "      <td>Hans-Joerg</td>\n",
              "      <td>Belfast</td>\n",
              "      <td>Northern Ireland</td>\n",
              "      <td>United Kingdom</td>\n",
              "      <td>11/10/08 12:15</td>\n",
              "      <td>3/1/09 3:37</td>\n",
              "      <td>54.583333</td>\n",
              "      <td>-5.933333</td>\n",
              "    </tr>\n",
              "    <tr>\n",
              "      <th>994</th>\n",
              "      <td>1/28/09 5:36</td>\n",
              "      <td>Product2</td>\n",
              "      <td>3600</td>\n",
              "      <td>Visa</td>\n",
              "      <td>Christiane</td>\n",
              "      <td>Black River</td>\n",
              "      <td>Black River</td>\n",
              "      <td>Mauritius</td>\n",
              "      <td>1/9/09 8:10</td>\n",
              "      <td>3/1/09 4:40</td>\n",
              "      <td>-20.360278</td>\n",
              "      <td>57.366111</td>\n",
              "    </tr>\n",
              "    <tr>\n",
              "      <th>995</th>\n",
              "      <td>1/1/09 4:24</td>\n",
              "      <td>Product3</td>\n",
              "      <td>7500</td>\n",
              "      <td>Amex</td>\n",
              "      <td>Pamela</td>\n",
              "      <td>Skaneateles</td>\n",
              "      <td>NY</td>\n",
              "      <td>United States</td>\n",
              "      <td>12/28/08 17:28</td>\n",
              "      <td>3/1/09 7:21</td>\n",
              "      <td>42.946940</td>\n",
              "      <td>-76.429440</td>\n",
              "    </tr>\n",
              "    <tr>\n",
              "      <th>996</th>\n",
              "      <td>1/8/09 11:55</td>\n",
              "      <td>Product1</td>\n",
              "      <td>1200</td>\n",
              "      <td>Diners</td>\n",
              "      <td>julie</td>\n",
              "      <td>Haverhill</td>\n",
              "      <td>England</td>\n",
              "      <td>United Kingdom</td>\n",
              "      <td>11/29/06 13:31</td>\n",
              "      <td>3/1/09 7:28</td>\n",
              "      <td>52.083333</td>\n",
              "      <td>0.433333</td>\n",
              "    </tr>\n",
              "    <tr>\n",
              "      <th>997</th>\n",
              "      <td>1/12/09 21:30</td>\n",
              "      <td>Product1</td>\n",
              "      <td>1200</td>\n",
              "      <td>Visa</td>\n",
              "      <td>Julia</td>\n",
              "      <td>Madison</td>\n",
              "      <td>WI</td>\n",
              "      <td>United States</td>\n",
              "      <td>11/17/08 22:24</td>\n",
              "      <td>3/1/09 10:14</td>\n",
              "      <td>43.073060</td>\n",
              "      <td>-89.401110</td>\n",
              "    </tr>\n",
              "  </tbody>\n",
              "</table>\n",
              "<p>998 rows × 12 columns</p>\n",
              "</div>"
            ],
            "text/plain": [
              "         timestamp   product price  ...    last_login   latitude   longitude\n",
              "0      1/2/09 6:17  Product1  1200  ...   1/2/09 6:08  51.500000   -1.116667\n",
              "1      1/2/09 4:53  Product1  1200  ...   1/2/09 7:49  39.195000  -94.681940\n",
              "2     1/2/09 13:08  Product1  1200  ...  1/3/09 12:32  46.188060 -123.830000\n",
              "3     1/3/09 14:44  Product1  1200  ...  1/3/09 14:22 -36.133333  144.750000\n",
              "4     1/4/09 12:56  Product2  3600  ...  1/4/09 12:45  33.520560  -86.802500\n",
              "..             ...       ...   ...  ...           ...        ...         ...\n",
              "993  1/22/09 14:25  Product1  1200  ...   3/1/09 3:37  54.583333   -5.933333\n",
              "994   1/28/09 5:36  Product2  3600  ...   3/1/09 4:40 -20.360278   57.366111\n",
              "995    1/1/09 4:24  Product3  7500  ...   3/1/09 7:21  42.946940  -76.429440\n",
              "996   1/8/09 11:55  Product1  1200  ...   3/1/09 7:28  52.083333    0.433333\n",
              "997  1/12/09 21:30  Product1  1200  ...  3/1/09 10:14  43.073060  -89.401110\n",
              "\n",
              "[998 rows x 12 columns]"
            ]
          },
          "metadata": {
            "tags": []
          },
          "execution_count": 11
        }
      ]
    },
    {
      "cell_type": "markdown",
      "metadata": {
        "colab_type": "text",
        "id": "xsKu-5hWmvwN"
      },
      "source": [
        "## Distintas distribuciones para distintos datos"
      ]
    },
    {
      "cell_type": "code",
      "metadata": {
        "colab_type": "code",
        "id": "jbd-LW8lmu8P",
        "colab": {
          "base_uri": "https://localhost:8080/",
          "height": 416
        },
        "outputId": "bdb2fd2f-e395-4dbf-9dba-74bcc47da7eb"
      },
      "source": [
        "import numpy \n",
        "\n",
        "N = 100\n",
        "\n",
        "new_data = {}\n",
        "new_data['gender'] = numpy.random.choice(\n",
        "    ['Mujer', 'Varon', 'Otro', 'Prefiero no decirlo'], size=N,\n",
        "    p=[0.3, 0.65, 0.01, 0.04])\n",
        "new_data['age'] = numpy.random.normal(35, 15, size=N).astype(numpy.int32)\n",
        "new_data['zodiac_sign'] = numpy.random.choice(\n",
        "    ['Aries', 'Tauro', 'Géminis', 'Cáncer', 'Leo', 'Virgo', 'Libra', 'Escorpio',\n",
        "     'Sagitario', 'Capricornio', 'Acuario', 'Picis'], size=N)\n",
        "new_data['profession'] = numpy.random.choice(\n",
        "    ['Programador', 'Profesor', 'Maestra', 'Profesora', 'Contador', 'Contadora',\n",
        "     'Ingeniero', 'Economista', 'Estudiante', 'Matemático', 'Matemático',\n",
        "     'Físico', 'Física'], size=N)\n",
        "round_100 = lambda x: int(int(x) / 100) * 1000\n",
        "new_data['junior_programmer_salary'] = numpy.vectorize(round_100)(\n",
        "    numpy.random.lognormal(mean=8.15, sigma=0.25, size=N))\n",
        "new_data['senior_programmer_salary'] = numpy.vectorize(round_100)(\n",
        "    numpy.random.lognormal(mean=9, sigma=0.35, size=N))\n",
        "new_df = pandas.DataFrame(new_data)\n",
        "new_df"
      ],
      "execution_count": null,
      "outputs": [
        {
          "output_type": "execute_result",
          "data": {
            "text/html": [
              "<div>\n",
              "<style scoped>\n",
              "    .dataframe tbody tr th:only-of-type {\n",
              "        vertical-align: middle;\n",
              "    }\n",
              "\n",
              "    .dataframe tbody tr th {\n",
              "        vertical-align: top;\n",
              "    }\n",
              "\n",
              "    .dataframe thead th {\n",
              "        text-align: right;\n",
              "    }\n",
              "</style>\n",
              "<table border=\"1\" class=\"dataframe\">\n",
              "  <thead>\n",
              "    <tr style=\"text-align: right;\">\n",
              "      <th></th>\n",
              "      <th>gender</th>\n",
              "      <th>age</th>\n",
              "      <th>zodiac_sign</th>\n",
              "      <th>profession</th>\n",
              "      <th>junior_programmer_salary</th>\n",
              "      <th>senior_programmer_salary</th>\n",
              "    </tr>\n",
              "  </thead>\n",
              "  <tbody>\n",
              "    <tr>\n",
              "      <th>0</th>\n",
              "      <td>Prefiero no decirlo</td>\n",
              "      <td>23</td>\n",
              "      <td>Cáncer</td>\n",
              "      <td>Ingeniero</td>\n",
              "      <td>27000</td>\n",
              "      <td>149000</td>\n",
              "    </tr>\n",
              "    <tr>\n",
              "      <th>1</th>\n",
              "      <td>Mujer</td>\n",
              "      <td>17</td>\n",
              "      <td>Virgo</td>\n",
              "      <td>Contadora</td>\n",
              "      <td>28000</td>\n",
              "      <td>74000</td>\n",
              "    </tr>\n",
              "    <tr>\n",
              "      <th>2</th>\n",
              "      <td>Varon</td>\n",
              "      <td>37</td>\n",
              "      <td>Tauro</td>\n",
              "      <td>Físico</td>\n",
              "      <td>22000</td>\n",
              "      <td>75000</td>\n",
              "    </tr>\n",
              "    <tr>\n",
              "      <th>3</th>\n",
              "      <td>Varon</td>\n",
              "      <td>23</td>\n",
              "      <td>Sagitario</td>\n",
              "      <td>Ingeniero</td>\n",
              "      <td>34000</td>\n",
              "      <td>127000</td>\n",
              "    </tr>\n",
              "    <tr>\n",
              "      <th>4</th>\n",
              "      <td>Varon</td>\n",
              "      <td>60</td>\n",
              "      <td>Picis</td>\n",
              "      <td>Contador</td>\n",
              "      <td>29000</td>\n",
              "      <td>84000</td>\n",
              "    </tr>\n",
              "    <tr>\n",
              "      <th>...</th>\n",
              "      <td>...</td>\n",
              "      <td>...</td>\n",
              "      <td>...</td>\n",
              "      <td>...</td>\n",
              "      <td>...</td>\n",
              "      <td>...</td>\n",
              "    </tr>\n",
              "    <tr>\n",
              "      <th>95</th>\n",
              "      <td>Varon</td>\n",
              "      <td>23</td>\n",
              "      <td>Géminis</td>\n",
              "      <td>Física</td>\n",
              "      <td>52000</td>\n",
              "      <td>68000</td>\n",
              "    </tr>\n",
              "    <tr>\n",
              "      <th>96</th>\n",
              "      <td>Varon</td>\n",
              "      <td>53</td>\n",
              "      <td>Géminis</td>\n",
              "      <td>Programador</td>\n",
              "      <td>20000</td>\n",
              "      <td>52000</td>\n",
              "    </tr>\n",
              "    <tr>\n",
              "      <th>97</th>\n",
              "      <td>Varon</td>\n",
              "      <td>63</td>\n",
              "      <td>Capricornio</td>\n",
              "      <td>Física</td>\n",
              "      <td>33000</td>\n",
              "      <td>48000</td>\n",
              "    </tr>\n",
              "    <tr>\n",
              "      <th>98</th>\n",
              "      <td>Varon</td>\n",
              "      <td>35</td>\n",
              "      <td>Libra</td>\n",
              "      <td>Matemático</td>\n",
              "      <td>34000</td>\n",
              "      <td>76000</td>\n",
              "    </tr>\n",
              "    <tr>\n",
              "      <th>99</th>\n",
              "      <td>Mujer</td>\n",
              "      <td>23</td>\n",
              "      <td>Escorpio</td>\n",
              "      <td>Profesor</td>\n",
              "      <td>32000</td>\n",
              "      <td>121000</td>\n",
              "    </tr>\n",
              "  </tbody>\n",
              "</table>\n",
              "<p>100 rows × 6 columns</p>\n",
              "</div>"
            ],
            "text/plain": [
              "                 gender  ...  senior_programmer_salary\n",
              "0   Prefiero no decirlo  ...                    149000\n",
              "1                 Mujer  ...                     74000\n",
              "2                 Varon  ...                     75000\n",
              "3                 Varon  ...                    127000\n",
              "4                 Varon  ...                     84000\n",
              "..                  ...  ...                       ...\n",
              "95                Varon  ...                     68000\n",
              "96                Varon  ...                     52000\n",
              "97                Varon  ...                     48000\n",
              "98                Varon  ...                     76000\n",
              "99                Mujer  ...                    121000\n",
              "\n",
              "[100 rows x 6 columns]"
            ]
          },
          "metadata": {
            "tags": []
          },
          "execution_count": 79
        }
      ]
    },
    {
      "cell_type": "markdown",
      "metadata": {
        "colab_type": "text",
        "id": "hor24zviXB6I"
      },
      "source": [
        "# Save dataset"
      ]
    },
    {
      "cell_type": "code",
      "metadata": {
        "colab_type": "code",
        "id": "dwD0SGOHlx9L",
        "colab": {
          "base_uri": "https://localhost:8080/",
          "height": 17
        },
        "outputId": "3698063c-e0fe-485d-ad64-d17f3e1eecdf"
      },
      "source": [
        "from google.colab import files\n",
        "df.to_csv('generated_dataset.csv') \n",
        "files.download('generated_dataset.csv')"
      ],
      "execution_count": 13,
      "outputs": [
        {
          "output_type": "display_data",
          "data": {
            "application/javascript": [
              "\n",
              "    async function download(id, filename, size) {\n",
              "      if (!google.colab.kernel.accessAllowed) {\n",
              "        return;\n",
              "      }\n",
              "      const div = document.createElement('div');\n",
              "      const label = document.createElement('label');\n",
              "      label.textContent = `Downloading \"${filename}\": `;\n",
              "      div.appendChild(label);\n",
              "      const progress = document.createElement('progress');\n",
              "      progress.max = size;\n",
              "      div.appendChild(progress);\n",
              "      document.body.appendChild(div);\n",
              "\n",
              "      const buffers = [];\n",
              "      let downloaded = 0;\n",
              "\n",
              "      const channel = await google.colab.kernel.comms.open(id);\n",
              "      // Send a message to notify the kernel that we're ready.\n",
              "      channel.send({})\n",
              "\n",
              "      for await (const message of channel.messages) {\n",
              "        // Send a message to notify the kernel that we're ready.\n",
              "        channel.send({})\n",
              "        if (message.buffers) {\n",
              "          for (const buffer of message.buffers) {\n",
              "            buffers.push(buffer);\n",
              "            downloaded += buffer.byteLength;\n",
              "            progress.value = downloaded;\n",
              "          }\n",
              "        }\n",
              "      }\n",
              "      const blob = new Blob(buffers, {type: 'application/binary'});\n",
              "      const a = document.createElement('a');\n",
              "      a.href = window.URL.createObjectURL(blob);\n",
              "      a.download = filename;\n",
              "      div.appendChild(a);\n",
              "      a.click();\n",
              "      div.remove();\n",
              "    }\n",
              "  "
            ],
            "text/plain": [
              "<IPython.core.display.Javascript object>"
            ]
          },
          "metadata": {
            "tags": []
          }
        },
        {
          "output_type": "display_data",
          "data": {
            "application/javascript": [
              "download(\"download_e0f169a6-cf1d-4de5-90d3-184e0f9cb0ed\", \"generated_dataset.csv\", 131620)"
            ],
            "text/plain": [
              "<IPython.core.display.Javascript object>"
            ]
          },
          "metadata": {
            "tags": []
          }
        }
      ]
    },
    {
      "cell_type": "markdown",
      "metadata": {
        "id": "BB-R9b5gKdzu",
        "colab_type": "text"
      },
      "source": [
        "Está bueno tener a mano este bloque de código para generar y guardar un CSV en Colab."
      ]
    },
    {
      "cell_type": "code",
      "metadata": {
        "colab_type": "code",
        "id": "-AKM_cCaS_vl",
        "colab": {}
      },
      "source": [
        ""
      ],
      "execution_count": null,
      "outputs": []
    }
  ]
}