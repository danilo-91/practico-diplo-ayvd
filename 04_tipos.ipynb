{
  "nbformat": 4,
  "nbformat_minor": 0,
  "metadata": {
    "colab": {
      "name": "04_tipos.ipynb",
      "provenance": []
    },
    "kernelspec": {
      "display_name": "Python 3",
      "language": "python",
      "name": "python3"
    },
    "language_info": {
      "codemirror_mode": {
        "name": "ipython",
        "version": 3
      },
      "file_extension": ".py",
      "mimetype": "text/x-python",
      "name": "python",
      "nbconvert_exporter": "python",
      "pygments_lexer": "ipython3",
      "version": "3.6.10"
    }
  },
  "cells": [
    {
      "cell_type": "markdown",
      "metadata": {
        "colab_type": "text",
        "id": "3yqLqibr0M_8"
      },
      "source": [
        "<center>\n",
        "<h4>Universidad Nacional de Córdoba - Diplomatura en Ciencia de Datos, Aprendizaje Automático y sus Aplicaciones</h4>\n",
        "<h3> Análisis y Visualización de Datos </h3>\n",
        "</center>\n"
      ]
    },
    {
      "cell_type": "markdown",
      "metadata": {
        "colab_type": "text",
        "id": "FATjz1ST0RRZ"
      },
      "source": [
        "# Tipos de datos\n",
        "\n",
        "En esta notebook vamos a analizar los tipos de datos estadísticos de nuestro dataset, y comparalos con los tipos de datos computacionales de pandas."
      ]
    },
    {
      "cell_type": "code",
      "metadata": {
        "colab_type": "code",
        "id": "yBWTBtS8Mp1D",
        "colab": {
          "base_uri": "https://localhost:8080/",
          "height": 92
        },
        "outputId": "a486dac4-47f6-441f-c9a4-f4e0bbbc6801"
      },
      "source": [
        "import io\n",
        "import pandas\n",
        "import seaborn\n",
        "\n",
        "print(seaborn.__version__)"
      ],
      "execution_count": 2,
      "outputs": [
        {
          "output_type": "stream",
          "text": [
            "0.10.1\n"
          ],
          "name": "stdout"
        },
        {
          "output_type": "stream",
          "text": [
            "/usr/local/lib/python3.6/dist-packages/statsmodels/tools/_testing.py:19: FutureWarning: pandas.util.testing is deprecated. Use the functions in the public API at pandas.testing instead.\n",
            "  import pandas.util.testing as tm\n"
          ],
          "name": "stderr"
        }
      ]
    },
    {
      "cell_type": "code",
      "metadata": {
        "colab_type": "code",
        "id": "nDcbnarNOmYY",
        "colab": {
          "base_uri": "https://localhost:8080/",
          "height": 563
        },
        "outputId": "77913457-f21b-49b2-feb0-bf23a767f4c2"
      },
      "source": [
        "df = pandas.read_csv('http://samplecsvs.s3.amazonaws.com/SalesJan2009.csv')\n",
        "#df.columns = ['timestamp', 'gender', 'age', 'zodiac_sign', 'profession',\n",
        "#              'junior_programmer_salary', 'senior_programmer_salary']\n",
        "df"
      ],
      "execution_count": 16,
      "outputs": [
        {
          "output_type": "execute_result",
          "data": {
            "text/html": [
              "<div>\n",
              "<style scoped>\n",
              "    .dataframe tbody tr th:only-of-type {\n",
              "        vertical-align: middle;\n",
              "    }\n",
              "\n",
              "    .dataframe tbody tr th {\n",
              "        vertical-align: top;\n",
              "    }\n",
              "\n",
              "    .dataframe thead th {\n",
              "        text-align: right;\n",
              "    }\n",
              "</style>\n",
              "<table border=\"1\" class=\"dataframe\">\n",
              "  <thead>\n",
              "    <tr style=\"text-align: right;\">\n",
              "      <th></th>\n",
              "      <th>Transaction_date</th>\n",
              "      <th>Product</th>\n",
              "      <th>Price</th>\n",
              "      <th>Payment_Type</th>\n",
              "      <th>Name</th>\n",
              "      <th>City</th>\n",
              "      <th>State</th>\n",
              "      <th>Country</th>\n",
              "      <th>Account_Created</th>\n",
              "      <th>Last_Login</th>\n",
              "      <th>Latitude</th>\n",
              "      <th>Longitude</th>\n",
              "    </tr>\n",
              "  </thead>\n",
              "  <tbody>\n",
              "    <tr>\n",
              "      <th>0</th>\n",
              "      <td>1/2/09 6:17</td>\n",
              "      <td>Product1</td>\n",
              "      <td>1200</td>\n",
              "      <td>Mastercard</td>\n",
              "      <td>carolina</td>\n",
              "      <td>Basildon</td>\n",
              "      <td>England</td>\n",
              "      <td>United Kingdom</td>\n",
              "      <td>1/2/09 6:00</td>\n",
              "      <td>1/2/09 6:08</td>\n",
              "      <td>51.500000</td>\n",
              "      <td>-1.116667</td>\n",
              "    </tr>\n",
              "    <tr>\n",
              "      <th>1</th>\n",
              "      <td>1/2/09 4:53</td>\n",
              "      <td>Product1</td>\n",
              "      <td>1200</td>\n",
              "      <td>Visa</td>\n",
              "      <td>Betina</td>\n",
              "      <td>Parkville</td>\n",
              "      <td>MO</td>\n",
              "      <td>United States</td>\n",
              "      <td>1/2/09 4:42</td>\n",
              "      <td>1/2/09 7:49</td>\n",
              "      <td>39.195000</td>\n",
              "      <td>-94.681940</td>\n",
              "    </tr>\n",
              "    <tr>\n",
              "      <th>2</th>\n",
              "      <td>1/2/09 13:08</td>\n",
              "      <td>Product1</td>\n",
              "      <td>1200</td>\n",
              "      <td>Mastercard</td>\n",
              "      <td>Federica e Andrea</td>\n",
              "      <td>Astoria</td>\n",
              "      <td>OR</td>\n",
              "      <td>United States</td>\n",
              "      <td>1/1/09 16:21</td>\n",
              "      <td>1/3/09 12:32</td>\n",
              "      <td>46.188060</td>\n",
              "      <td>-123.830000</td>\n",
              "    </tr>\n",
              "    <tr>\n",
              "      <th>3</th>\n",
              "      <td>1/3/09 14:44</td>\n",
              "      <td>Product1</td>\n",
              "      <td>1200</td>\n",
              "      <td>Visa</td>\n",
              "      <td>Gouya</td>\n",
              "      <td>Echuca</td>\n",
              "      <td>Victoria</td>\n",
              "      <td>Australia</td>\n",
              "      <td>9/25/05 21:13</td>\n",
              "      <td>1/3/09 14:22</td>\n",
              "      <td>-36.133333</td>\n",
              "      <td>144.750000</td>\n",
              "    </tr>\n",
              "    <tr>\n",
              "      <th>4</th>\n",
              "      <td>1/4/09 12:56</td>\n",
              "      <td>Product2</td>\n",
              "      <td>3600</td>\n",
              "      <td>Visa</td>\n",
              "      <td>Gerd W</td>\n",
              "      <td>Cahaba Heights</td>\n",
              "      <td>AL</td>\n",
              "      <td>United States</td>\n",
              "      <td>11/15/08 15:47</td>\n",
              "      <td>1/4/09 12:45</td>\n",
              "      <td>33.520560</td>\n",
              "      <td>-86.802500</td>\n",
              "    </tr>\n",
              "    <tr>\n",
              "      <th>...</th>\n",
              "      <td>...</td>\n",
              "      <td>...</td>\n",
              "      <td>...</td>\n",
              "      <td>...</td>\n",
              "      <td>...</td>\n",
              "      <td>...</td>\n",
              "      <td>...</td>\n",
              "      <td>...</td>\n",
              "      <td>...</td>\n",
              "      <td>...</td>\n",
              "      <td>...</td>\n",
              "      <td>...</td>\n",
              "    </tr>\n",
              "    <tr>\n",
              "      <th>993</th>\n",
              "      <td>1/22/09 14:25</td>\n",
              "      <td>Product1</td>\n",
              "      <td>1200</td>\n",
              "      <td>Visa</td>\n",
              "      <td>Hans-Joerg</td>\n",
              "      <td>Belfast</td>\n",
              "      <td>Northern Ireland</td>\n",
              "      <td>United Kingdom</td>\n",
              "      <td>11/10/08 12:15</td>\n",
              "      <td>3/1/09 3:37</td>\n",
              "      <td>54.583333</td>\n",
              "      <td>-5.933333</td>\n",
              "    </tr>\n",
              "    <tr>\n",
              "      <th>994</th>\n",
              "      <td>1/28/09 5:36</td>\n",
              "      <td>Product2</td>\n",
              "      <td>3600</td>\n",
              "      <td>Visa</td>\n",
              "      <td>Christiane</td>\n",
              "      <td>Black River</td>\n",
              "      <td>Black River</td>\n",
              "      <td>Mauritius</td>\n",
              "      <td>1/9/09 8:10</td>\n",
              "      <td>3/1/09 4:40</td>\n",
              "      <td>-20.360278</td>\n",
              "      <td>57.366111</td>\n",
              "    </tr>\n",
              "    <tr>\n",
              "      <th>995</th>\n",
              "      <td>1/1/09 4:24</td>\n",
              "      <td>Product3</td>\n",
              "      <td>7500</td>\n",
              "      <td>Amex</td>\n",
              "      <td>Pamela</td>\n",
              "      <td>Skaneateles</td>\n",
              "      <td>NY</td>\n",
              "      <td>United States</td>\n",
              "      <td>12/28/08 17:28</td>\n",
              "      <td>3/1/09 7:21</td>\n",
              "      <td>42.946940</td>\n",
              "      <td>-76.429440</td>\n",
              "    </tr>\n",
              "    <tr>\n",
              "      <th>996</th>\n",
              "      <td>1/8/09 11:55</td>\n",
              "      <td>Product1</td>\n",
              "      <td>1200</td>\n",
              "      <td>Diners</td>\n",
              "      <td>julie</td>\n",
              "      <td>Haverhill</td>\n",
              "      <td>England</td>\n",
              "      <td>United Kingdom</td>\n",
              "      <td>11/29/06 13:31</td>\n",
              "      <td>3/1/09 7:28</td>\n",
              "      <td>52.083333</td>\n",
              "      <td>0.433333</td>\n",
              "    </tr>\n",
              "    <tr>\n",
              "      <th>997</th>\n",
              "      <td>1/12/09 21:30</td>\n",
              "      <td>Product1</td>\n",
              "      <td>1200</td>\n",
              "      <td>Visa</td>\n",
              "      <td>Julia</td>\n",
              "      <td>Madison</td>\n",
              "      <td>WI</td>\n",
              "      <td>United States</td>\n",
              "      <td>11/17/08 22:24</td>\n",
              "      <td>3/1/09 10:14</td>\n",
              "      <td>43.073060</td>\n",
              "      <td>-89.401110</td>\n",
              "    </tr>\n",
              "  </tbody>\n",
              "</table>\n",
              "<p>998 rows × 12 columns</p>\n",
              "</div>"
            ],
            "text/plain": [
              "    Transaction_date   Product Price  ...    Last_Login   Latitude   Longitude\n",
              "0        1/2/09 6:17  Product1  1200  ...   1/2/09 6:08  51.500000   -1.116667\n",
              "1        1/2/09 4:53  Product1  1200  ...   1/2/09 7:49  39.195000  -94.681940\n",
              "2       1/2/09 13:08  Product1  1200  ...  1/3/09 12:32  46.188060 -123.830000\n",
              "3       1/3/09 14:44  Product1  1200  ...  1/3/09 14:22 -36.133333  144.750000\n",
              "4       1/4/09 12:56  Product2  3600  ...  1/4/09 12:45  33.520560  -86.802500\n",
              "..               ...       ...   ...  ...           ...        ...         ...\n",
              "993    1/22/09 14:25  Product1  1200  ...   3/1/09 3:37  54.583333   -5.933333\n",
              "994     1/28/09 5:36  Product2  3600  ...   3/1/09 4:40 -20.360278   57.366111\n",
              "995      1/1/09 4:24  Product3  7500  ...   3/1/09 7:21  42.946940  -76.429440\n",
              "996     1/8/09 11:55  Product1  1200  ...   3/1/09 7:28  52.083333    0.433333\n",
              "997    1/12/09 21:30  Product1  1200  ...  3/1/09 10:14  43.073060  -89.401110\n",
              "\n",
              "[998 rows x 12 columns]"
            ]
          },
          "metadata": {
            "tags": []
          },
          "execution_count": 16
        }
      ]
    },
    {
      "cell_type": "markdown",
      "metadata": {
        "colab_type": "text",
        "id": "5o4INtyGSTxJ"
      },
      "source": [
        "## Tipos de variables aleatorias\n",
        "\n",
        "En base a la definición de variable aleatoria que vimos en el teórico, podemos hablar de que cada columna de nuestro dataset es un **variable aleatoria**, y que su valor en cada respuesta es una **realización** de dicha variable. Pero, ¿qué tipo tienen esas variables?\n",
        "\n",
        "Tenemos que distinguir dos conceptos con el mismo nombre y significado similar, pero que no son iguales:\n",
        " - **tipo de la variable aleatoria** es el tipo teórico que tienen nuestros datos.\n",
        " - **tipo de datos** es un concepto de programación que indica en qué formato se representa la información.\n",
        "\n",
        "Analicemos el tipo de cada variable aleatoria en base a la clasificación que vimos en el teórico:\n",
        " \n",
        "- `gender`: ??\n",
        "- `age`: ??\n",
        "- `zodiac_sign`: ??\n",
        "- `profession`: ??\n",
        "- `junior_programmer_salary`: ??\n",
        "- `senior_programmer_salary`: ??\n",
        "\n",
        "Preguntar para discutir:\n",
        "\n",
        "1. El tipo de `age`, ¿es discreto o continuo?\n",
        "2. ¿Qué valores pueden tomar `junior_programmer_salary` y `senior_programmer_salary`? ¿Qué valores toman en la encuenta?\n",
        "2. Los signos del zodiaco siguen un orden (al igual que los días y los meses del año). ¿Podríamos decir que `zodiac_sign` tiene tipo ordinal?\n",
        " \n"
      ]
    },
    {
      "cell_type": "markdown",
      "metadata": {
        "colab_type": "text",
        "id": "12GWuJocsY5o"
      },
      "source": [
        "### Rango y valores posibles\n",
        "\n",
        "Siempre es útil saber qué valores puede tomar una variable para entender qué tipo tiene. Sin embargo, si sospechamos que una variable es continua, no tiene sentido listar todos sus valores posibles. En ese caso, nos conviene mostrar sólo el rango, o tomar una pequeña muestra. Veamos algunos ejemplos:\n"
      ]
    },
    {
      "cell_type": "code",
      "metadata": {
        "colab_type": "code",
        "id": "4V1UspMStvuq",
        "colab": {
          "base_uri": "https://localhost:8080/",
          "height": 35
        },
        "outputId": "10363e1c-3fad-4059-c90e-2251a239ef07"
      },
      "source": [
        "df.gender.unique()  # Listar todos los valores posibles"
      ],
      "execution_count": null,
      "outputs": [
        {
          "output_type": "execute_result",
          "data": {
            "text/plain": [
              "array(['Prefiero no decirlo', 'Mujer', 'Varon'], dtype=object)"
            ]
          },
          "metadata": {
            "tags": []
          },
          "execution_count": 4
        }
      ]
    },
    {
      "cell_type": "markdown",
      "metadata": {
        "id": "9OxjgNYfiZY8",
        "colab_type": "text"
      },
      "source": [
        "El método unique() muestra todos los valores posibles."
      ]
    },
    {
      "cell_type": "code",
      "metadata": {
        "colab_type": "code",
        "id": "5O7S-oHRtX4N",
        "colab": {
          "base_uri": "https://localhost:8080/",
          "height": 35
        },
        "outputId": "b7de5fa5-e6c6-4098-8e47-e40330cbae8a"
      },
      "source": [
        "df.Price.max(), df.Price.min()  # Variable numérica"
      ],
      "execution_count": 20,
      "outputs": [
        {
          "output_type": "execute_result",
          "data": {
            "text/plain": [
              "('800', '1200')"
            ]
          },
          "metadata": {
            "tags": []
          },
          "execution_count": 20
        }
      ]
    },
    {
      "cell_type": "code",
      "metadata": {
        "colab_type": "code",
        "id": "wZo5XaM2tbRv",
        "colab": {
          "base_uri": "https://localhost:8080/",
          "height": 219
        },
        "outputId": "af6c70c1-64ae-40e1-b17c-13516d4a720e"
      },
      "source": [
        "df.Price.sample(n=10)  # Tomamos una muestra"
      ],
      "execution_count": 21,
      "outputs": [
        {
          "output_type": "execute_result",
          "data": {
            "text/plain": [
              "531    1200\n",
              "760    1200\n",
              "842    1200\n",
              "448    1200\n",
              "6      1200\n",
              "158    3600\n",
              "407    1200\n",
              "964    3600\n",
              "966    1200\n",
              "118    1200\n",
              "Name: Price, dtype: object"
            ]
          },
          "metadata": {
            "tags": []
          },
          "execution_count": 21
        }
      ]
    },
    {
      "cell_type": "code",
      "metadata": {
        "colab_type": "code",
        "id": "aHRzQL81uD8g",
        "colab": {
          "base_uri": "https://localhost:8080/",
          "height": 54
        },
        "outputId": "3f150c0c-a58b-4d2f-e191-e38e5a8adfb6"
      },
      "source": [
        "df.Price.unique()[:8]"
      ],
      "execution_count": 25,
      "outputs": [
        {
          "output_type": "execute_result",
          "data": {
            "text/plain": [
              "array(['1200', '3600', '2100', '7500', '800', '1250', '250', '1800'],\n",
              "      dtype=object)"
            ]
          },
          "metadata": {
            "tags": []
          },
          "execution_count": 25
        }
      ]
    },
    {
      "cell_type": "markdown",
      "metadata": {
        "colab_type": "text",
        "id": "CBDd_sJ0rXmJ"
      },
      "source": [
        "## Tipos de datos en programación\n",
        "\n",
        "Ahora pasemos al tipo de datos. Podemos saber con Pandas cómo está guardando la información de cada columna:\n"
      ]
    },
    {
      "cell_type": "code",
      "metadata": {
        "colab_type": "code",
        "id": "D4HILmylmAO6",
        "colab": {
          "base_uri": "https://localhost:8080/",
          "height": 256
        },
        "outputId": "c2712c6b-1e72-4ff7-d0f2-8e084ff37d7c"
      },
      "source": [
        "df.dtypes"
      ],
      "execution_count": 26,
      "outputs": [
        {
          "output_type": "execute_result",
          "data": {
            "text/plain": [
              "Transaction_date     object\n",
              "Product              object\n",
              "Price                object\n",
              "Payment_Type         object\n",
              "Name                 object\n",
              "City                 object\n",
              "State                object\n",
              "Country              object\n",
              "Account_Created      object\n",
              "Last_Login           object\n",
              "Latitude            float64\n",
              "Longitude           float64\n",
              "dtype: object"
            ]
          },
          "metadata": {
            "tags": []
          },
          "execution_count": 26
        }
      ]
    },
    {
      "cell_type": "markdown",
      "metadata": {
        "colab_type": "text",
        "id": "dn9MEK0wrrJq"
      },
      "source": [
        "En este caso, el tipo `object` hace referencia a un string, pero también podría ser una fecha, una lista, o cualquier cosa más compleja que un número. El **tipo de datos no siempre se correlaciona con el tipo de la variable**. Por ejemplo, si guardamos un puntaje de satisfacción del 1 al 5, aunque usemos números, esa variable es conceptualmente ordinal y no numérica."
      ]
    }
  ]
}